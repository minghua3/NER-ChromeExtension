{
 "cells": [
  {
   "cell_type": "code",
   "execution_count": 1,
   "metadata": {},
   "outputs": [
    {
     "name": "stderr",
     "output_type": "stream",
     "text": [
      "Using TensorFlow backend.\n"
     ]
    }
   ],
   "source": [
    "import numpy as np\n",
    "from keras import layers\n",
    "from keras import optimizers\n",
    "from keras.models import Model\n",
    "from keras_contrib.layers import CRF\n",
    "from keras_contrib import losses\n",
    "from keras_contrib import metrics\n",
    "from plot_keras_history import plot_history\n",
    "import matplotlib.pyplot as plt"
   ]
  },
  {
   "cell_type": "code",
   "execution_count": 2,
   "metadata": {},
   "outputs": [],
   "source": [
    "DENSE_EMBEDDING = 300\n",
    "LSTM_UNITS = 150\n",
    "LSTM_DROPOUT = 0.5\n",
    "DENSE_UNITS = 320\n",
    "BATCH_SIZE = 100\n",
    "MAX_EPOCHS = 8"
   ]
  },
  {
   "cell_type": "code",
   "execution_count": 3,
   "metadata": {},
   "outputs": [
    {
     "name": "stderr",
     "output_type": "stream",
     "text": [
      "d:\\Program Files\\Anaconda\\envs\\biLSTM-CRF\\lib\\site-packages\\tqdm\\auto.py:21: TqdmWarning: IProgress not found. Please update jupyter and ipywidgets. See https://ipywidgets.readthedocs.io/en/stable/user_install.html\n",
      "  from .autonotebook import tqdm as notebook_tqdm\n",
      "Found cached dataset conll2003 (C:/Users/Chris/.cache/huggingface/datasets/conll2003/conll2003/1.0.0/9a4d16a94f8674ba3466315300359b0acd891b68b6c8743ddf60b9c702adce98)\n",
      "100%|██████████| 3/3 [00:00<00:00, 499.92it/s]"
     ]
    },
    {
     "name": "stdout",
     "output_type": "stream",
     "text": [
      "DatasetDict({\n",
      "    train: Dataset({\n",
      "        features: ['id', 'tokens', 'pos_tags', 'chunk_tags', 'ner_tags'],\n",
      "        num_rows: 14041\n",
      "    })\n",
      "    validation: Dataset({\n",
      "        features: ['id', 'tokens', 'pos_tags', 'chunk_tags', 'ner_tags'],\n",
      "        num_rows: 3250\n",
      "    })\n",
      "    test: Dataset({\n",
      "        features: ['id', 'tokens', 'pos_tags', 'chunk_tags', 'ner_tags'],\n",
      "        num_rows: 3453\n",
      "    })\n",
      "})\n"
     ]
    },
    {
     "name": "stderr",
     "output_type": "stream",
     "text": [
      "\n"
     ]
    }
   ],
   "source": [
    "from datasets import load_dataset\n",
    "dataset = load_dataset(\"conll2003\")\n",
    "print(dataset)"
   ]
  },
  {
   "cell_type": "code",
   "execution_count": 4,
   "metadata": {},
   "outputs": [],
   "source": [
    "train_set = dataset['train']\n",
    "X_train = [feature['tokens'] for feature in train_set]\n",
    "y_train = [feature['ner_tags'] for feature in train_set]\n",
    "\n",
    "validation_set = dataset['validation']\n",
    "X_val = [feature['tokens'] for feature in validation_set]\n",
    "y_val = [feature['ner_tags'] for feature in validation_set]\n",
    "\n",
    "test_set = dataset['test']\n",
    "X_test = [feature['tokens'] for feature in test_set]\n",
    "y_test = [feature['ner_tags'] for feature in test_set]"
   ]
  },
  {
   "cell_type": "code",
   "execution_count": 5,
   "metadata": {},
   "outputs": [],
   "source": [
    "train_set_length = max([len(sentence) for sentence in X_train])\n",
    "validation_set_length = max([len(sentence) for sentence in X_val])\n",
    "test_set_length = max([len(sentence) for sentence in X_test])\n",
    "\n",
    "MAX_SENTENCE = max(train_set_length, validation_set_length, test_set_length)"
   ]
  },
  {
   "cell_type": "code",
   "execution_count": 6,
   "metadata": {},
   "outputs": [],
   "source": [
    "all_words = set()\n",
    "for sentence in X_train:\n",
    "    all_words = all_words.union(set(sentence))\n",
    "for sentence in X_val:\n",
    "    all_words = all_words.union(set(sentence))\n",
    "for sentence in X_test:\n",
    "    all_words = all_words.union(set(sentence))\n",
    "all_words = list(all_words)"
   ]
  },
  {
   "cell_type": "code",
   "execution_count": 7,
   "metadata": {},
   "outputs": [],
   "source": [
    "word2index = {word: idx for idx, word in enumerate(all_words)}\n",
    "word2index[\"<UNK>\"]=1\n",
    "word2index[\"<PAD>\"]=0\n",
    "index2word = {idx: word for word, idx in word2index.items()}\n",
    "WORD_COUNT = len(word2index)\n",
    "\n",
    "tag2index = {'O': 0, 'B-PER': 1, 'I-PER': 2, 'B-ORG': 3, 'I-ORG': 4, 'B-LOC': 5, 'I-LOC': 6, 'B-MISC': 7, 'I-MISC': 8, 'PAD': 9}\n",
    "# tag2index = {'O': 0, 'B-PER': 1, 'I-PER': 2, 'B-ORG': 3, 'I-ORG': 4, 'B-LOC': 5, 'I-LOC': 6, 'B-MISC': 7, 'I-MISC': 8}\n",
    "index2tag = {idx: word for word, idx in tag2index.items()}\n",
    "TAG_COUNT = len(tag2index)"
   ]
  },
  {
   "cell_type": "code",
   "execution_count": 8,
   "metadata": {},
   "outputs": [
    {
     "name": "stdout",
     "output_type": "stream",
     "text": [
      "Reading GloVe file (may take a while)\n",
      "- At line 0\n",
      "- At line 100000\n",
      "- At line 200000\n",
      "- At line 300000\n",
      "- At line 400000\n",
      "- At line 500000\n",
      "- At line 600000\n",
      "- At line 700000\n",
      "- At line 800000\n",
      "- At line 900000\n",
      "- At line 1000000\n",
      "- At line 1100000\n",
      "- At line 1200000\n",
      "- At line 1300000\n",
      "- At line 1400000\n",
      "- At line 1500000\n",
      "- At line 1600000\n",
      "- At line 1700000\n",
      "- At line 1800000\n",
      "- At line 1900000\n",
      "- At line 2000000\n",
      "- At line 2100000\n",
      "- done. Found 26890 vectors for 30291 words\n"
     ]
    }
   ],
   "source": [
    "embeddings = np.random.normal(scale=0.05, size=(WORD_COUNT, DENSE_EMBEDDING))\n",
    "\n",
    "# Get relevant glove vectors\n",
    "found = 0\n",
    "print('Reading GloVe file (may take a while)')\n",
    "with open('glove.840B.300d.txt', 'r') as f:\n",
    "    for line_idx, line in enumerate(f):\n",
    "        if line_idx % 100000 == 0:\n",
    "            print('- At line {}'.format(line_idx))\n",
    "        line = line.strip().split()\n",
    "        if len(line) != 300 + 1:\n",
    "            continue\n",
    "        word = line[0]\n",
    "        embedding = line[1:]\n",
    "        if word in word2index:\n",
    "            found += 1\n",
    "            word_idx = word2index[word]\n",
    "            embeddings[word_idx] = embedding\n",
    "print('- done. Found {} vectors for {} words'.format(found, WORD_COUNT))\n",
    "\n",
    "# Save np.array to file\n",
    "np.savez_compressed('glove.npz', embeddings=embeddings)"
   ]
  },
  {
   "cell_type": "code",
   "execution_count": 9,
   "metadata": {},
   "outputs": [],
   "source": [
    "X_train = [[word2index[word] for word in sentence] for sentence in X_train]\n",
    "X_train = [sentence + [word2index[\"<PAD>\"]] * (MAX_SENTENCE - len(sentence)) for sentence in X_train]\n",
    "y_train = [sentence + [tag2index[\"PAD\"]] * (MAX_SENTENCE - len(sentence)) for sentence in y_train]\n",
    "# y_train = [sentence + [tag2index[\"O\"]] * (MAX_SENTENCE - len(sentence)) for sentence in y_train]\n",
    "y_train = [np.eye(TAG_COUNT)[sentence] for sentence in y_train]\n",
    "\n",
    "X_val = [[word2index[word] for word in sentence] for sentence in X_val]\n",
    "X_val = [sentence + [word2index[\"<PAD>\"]] * (MAX_SENTENCE - len(sentence)) for sentence in X_val]\n",
    "y_val = [sentence + [tag2index[\"PAD\"]] * (MAX_SENTENCE - len(sentence)) for sentence in y_val]\n",
    "# y_val = [sentence + [tag2index[\"O\"]] * (MAX_SENTENCE - len(sentence)) for sentence in y_val]\n",
    "y_val = [np.eye(TAG_COUNT)[sentence] for sentence in y_val]\n",
    "\n",
    "X_test = [[word2index[word] for word in sentence] for sentence in X_test]\n",
    "X_test = [sentence + [word2index[\"<PAD>\"]] * (MAX_SENTENCE - len(sentence)) for sentence in X_test]\n",
    "y_test = [sentence + [tag2index[\"PAD\"]] * (MAX_SENTENCE - len(sentence)) for sentence in y_test]\n",
    "# y_test = [sentence + [tag2index[\"O\"]] * (MAX_SENTENCE - len(sentence)) for sentence in y_test]\n",
    "y_test = [np.eye(TAG_COUNT)[sentence] for sentence in y_test]"
   ]
  },
  {
   "cell_type": "code",
   "execution_count": 10,
   "metadata": {},
   "outputs": [],
   "source": [
    "X_train = np.array(X_train)\n",
    "y_train = np.array(y_train)\n",
    "X_val = np.array(X_val)\n",
    "y_val = np.array(y_val)\n",
    "X_test = np.array(X_test)\n",
    "y_test = np.array(y_test)"
   ]
  },
  {
   "cell_type": "code",
   "execution_count": 11,
   "metadata": {},
   "outputs": [
    {
     "name": "stdout",
     "output_type": "stream",
     "text": [
      "Model: \"model_1\"\n",
      "_________________________________________________________________\n",
      "Layer (type)                 Output Shape              Param #   \n",
      "=================================================================\n",
      "input_1 (InputLayer)         (None, 124)               0         \n",
      "_________________________________________________________________\n",
      "embedding_1 (Embedding)      (None, 124, 300)          9087300   \n",
      "_________________________________________________________________\n",
      "dropout_1 (Dropout)          (None, 124, 300)          0         \n",
      "_________________________________________________________________\n",
      "bidirectional_1 (Bidirection (None, 124, 300)          541200    \n",
      "_________________________________________________________________\n",
      "time_distributed_1 (TimeDist (None, 124, 320)          96320     \n",
      "_________________________________________________________________\n",
      "crf_1 (CRF)                  (None, 124, 10)           3330      \n",
      "=================================================================\n",
      "Total params: 9,728,150\n",
      "Trainable params: 640,850\n",
      "Non-trainable params: 9,087,300\n",
      "_________________________________________________________________\n"
     ]
    }
   ],
   "source": [
    "# biLSTM-CRF Model\n",
    "input_layer = layers.Input(shape=(MAX_SENTENCE,))\n",
    "\n",
    "# Word Embeddings matrix\n",
    "embedding_matrix = np.load('glove.npz')['embeddings']\n",
    "embedding_matrix[0] = 0\n",
    "embedding_matrix[1] = 0\n",
    "\n",
    "embedding_layer = layers.Embedding(\n",
    "    input_dim=WORD_COUNT,\n",
    "    output_dim=DENSE_EMBEDDING,\n",
    "    input_length=MAX_SENTENCE,\n",
    "    weights=[embedding_matrix],\n",
    "    trainable=False,\n",
    ")\n",
    "\n",
    "embedded_sequences = embedding_layer(input_layer)\n",
    "embedded_sequences = layers.Dropout(0.5)(embedded_sequences)\n",
    "\n",
    "model = layers.Bidirectional(layers.LSTM(LSTM_UNITS, recurrent_dropout=LSTM_DROPOUT, return_sequences=True))(embedded_sequences)\n",
    "\n",
    "model = layers.TimeDistributed(layers.Dense(DENSE_UNITS, activation=\"relu\"))(model)\n",
    "\n",
    "crf_layer = CRF(units=TAG_COUNT)\n",
    "output_layer = crf_layer(model)\n",
    "\n",
    "ner_model = Model(input_layer, output_layer)\n",
    "\n",
    "loss = losses.crf_loss\n",
    "acc_metric = metrics.crf_accuracy\n",
    "opt = optimizers.Adam(lr=0.01)\n",
    "\n",
    "ner_model.compile(optimizer=opt, loss=loss, metrics=[acc_metric])\n",
    "\n",
    "ner_model.summary()"
   ]
  },
  {
   "cell_type": "code",
   "execution_count": 12,
   "metadata": {},
   "outputs": [
    {
     "name": "stdout",
     "output_type": "stream",
     "text": [
      "Train on 14041 samples, validate on 3250 samples\n",
      "Epoch 1/8\n",
      "14041/14041 [==============================] - 107s 8ms/step - loss: 0.0635 - crf_accuracy: 0.9772 - val_loss: 1.8634e-04 - val_crf_accuracy: 0.9961\n",
      "Epoch 2/8\n",
      "14041/14041 [==============================] - 85s 6ms/step - loss: -0.0048 - crf_accuracy: 0.9959 - val_loss: -0.0150 - val_crf_accuracy: 0.9974\n",
      "Epoch 3/8\n",
      "14041/14041 [==============================] - 86s 6ms/step - loss: -0.0194 - crf_accuracy: 0.9969 - val_loss: -0.0271 - val_crf_accuracy: 0.9976\n",
      "Epoch 4/8\n",
      "14041/14041 [==============================] - 89s 6ms/step - loss: -0.0325 - crf_accuracy: 0.9974 - val_loss: -0.0392 - val_crf_accuracy: 0.9977\n",
      "Epoch 5/8\n",
      "14041/14041 [==============================] - 88s 6ms/step - loss: -0.0443 - crf_accuracy: 0.9975 - val_loss: -0.0495 - val_crf_accuracy: 0.9975\n",
      "Epoch 6/8\n",
      "14041/14041 [==============================] - 90s 6ms/step - loss: -0.0515 - crf_accuracy: 0.9961 - val_loss: -0.0578 - val_crf_accuracy: 0.9964\n",
      "Epoch 7/8\n",
      "14041/14041 [==============================] - 92s 7ms/step - loss: -0.0611 - crf_accuracy: 0.9952 - val_loss: -0.0703 - val_crf_accuracy: 0.9968\n",
      "Epoch 8/8\n",
      "14041/14041 [==============================] - 91s 6ms/step - loss: -0.0743 - crf_accuracy: 0.9958 - val_loss: -0.0827 - val_crf_accuracy: 0.9970\n"
     ]
    },
    {
     "data": {
      "image/png": "[encoded data removed]",
      "text/plain": [
       "<Figure size 1000x500 with 2 Axes>"
      ]
     },
     "metadata": {},
     "output_type": "display_data"
    },
    {
     "name": "stdout",
     "output_type": "stream",
     "text": [
      "\n",
      "\n",
      "3453/3453 [==============================] - 10s 3ms/step\n",
      "\n",
      "Test accuracy: 0.996322512626648\n"
     ]
    }
   ],
   "source": [
    "# Training Model\n",
    "\n",
    "history = ner_model.fit(X_train, y_train, batch_size=BATCH_SIZE, epochs=MAX_EPOCHS, validation_data=(X_val, y_val), verbose=1)\n",
    "\n",
    "plot_history(history.history)\n",
    "plt.show()\n",
    "\n",
    "print(\"\\n\")\n",
    "test_loss, test_acc = ner_model.evaluate(X_test, y_test, verbose=1)\n",
    "print('\\nTest accuracy:', test_acc)\n",
    "\n",
    "y_predict = ner_model.predict(X_test)\n",
    "y_predict = pred = np.argmax(y_predict, axis=-1)\n",
    "\n",
    "X_test_orig = [feature['tokens'] for feature in test_set]\n",
    "X_test_len = [len(sentence) for sentence in X_test_orig]\n",
    "y_pred = [[index2tag[tag_idx] for tag_idx in y_predict[i]] for i in range(y_predict.shape[0])]\n",
    "y_pred = [sentence[:sentencelen] for sentence, sentencelen in zip(y_pred, X_test_len)]\n",
    "\n",
    "y_test_orig = [feature['ner_tags'] for feature in test_set]\n",
    "y_true = [[index2tag[tag_idx] for tag_idx in sentence] for sentence in y_test_orig]"
   ]
  },
  {
   "cell_type": "code",
   "execution_count": 13,
   "metadata": {},
   "outputs": [],
   "source": [
    "# create a new list to hold the cleaned sequences\n",
    "IOB2_pred = []\n",
    "IOB2_true = []\n",
    "\n",
    "# iterate through each sequence in A and remove the corresponding elements in B\n",
    "for seq_pred, seq_true in zip(y_pred, y_true):\n",
    "    # create a new list to hold the cleaned sequence\n",
    "    IOB2_seq_pred = []\n",
    "    IOB2_seq_true = []\n",
    "\n",
    "    # iterate through each label in the sequence\n",
    "    for label_pred, label_true in zip(seq_pred, seq_true):\n",
    "        # if the label is not \"PAD\", append it to the cleaned sequence\n",
    "        if label_pred != \"PAD\":\n",
    "            IOB2_seq_pred.append(label_pred)\n",
    "            IOB2_seq_true.append(label_true)\n",
    "\n",
    "    # append the cleaned sequence to the new list\n",
    "    IOB2_pred.append(IOB2_seq_pred)\n",
    "    IOB2_true.append(IOB2_seq_true)\n"
   ]
  },
  {
   "cell_type": "code",
   "execution_count": 14,
   "metadata": {},
   "outputs": [
    {
     "name": "stdout",
     "output_type": "stream",
     "text": [
      "0.9664261871433186\n",
      "0.9703128716296568\n",
      "\n",
      "\n",
      "F1-score: 0.860211236353954\n",
      "              precision    recall  f1-score   support\n",
      "\n",
      "         LOC       0.87      0.91      0.89      1668\n",
      "        MISC       0.77      0.73      0.75       699\n",
      "         ORG       0.85      0.79      0.82      1661\n",
      "         PER       0.90      0.93      0.92      1608\n",
      "\n",
      "   micro avg       0.86      0.86      0.86      5636\n",
      "   macro avg       0.85      0.84      0.84      5636\n",
      "weighted avg       0.86      0.86      0.86      5636\n",
      "\n",
      "\n",
      "\n",
      "F1-score: 0.8583797155225726\n",
      "              precision    recall  f1-score   support\n",
      "\n",
      "         LOC       0.86      0.91      0.89      1668\n",
      "        MISC       0.77      0.74      0.75       702\n",
      "         ORG       0.84      0.79      0.81      1661\n",
      "         PER       0.90      0.94      0.92      1613\n",
      "\n",
      "   micro avg       0.86      0.86      0.86      5644\n",
      "   macro avg       0.84      0.84      0.84      5644\n",
      "weighted avg       0.85      0.86      0.86      5644\n",
      "\n"
     ]
    }
   ],
   "source": [
    "from seqeval.metrics import accuracy_score\n",
    "from seqeval.metrics import classification_report\n",
    "from seqeval.metrics import f1_score\n",
    "from seqeval.scheme import IOB2\n",
    "\n",
    "print(accuracy_score(y_true, y_pred))\n",
    "print(accuracy_score(IOB2_true, IOB2_pred))\n",
    "print(\"\\n\")\n",
    "print(\"F1-score:\", f1_score(IOB2_true, IOB2_pred,  mode='strict', scheme=IOB2))\n",
    "print(classification_report(IOB2_true, IOB2_pred, mode='strict', scheme=IOB2))\n",
    "print(\"\\n\")\n",
    "print(\"F1-score:\", f1_score(IOB2_true, IOB2_pred))\n",
    "print(classification_report(IOB2_true, IOB2_pred))"
   ]
  },
  {
   "cell_type": "code",
   "execution_count": 15,
   "metadata": {},
   "outputs": [],
   "source": [
    "# # Predicting\n",
    "# import re\n",
    "# import string\n",
    "\n",
    "# # sentence = \"President Obama became the first sitting American president to visit Hiroshima\"\n",
    "# sentence = \"Chinese President Xi Jinping walks into the St. George's Hall at the Kremlin in Moscow, Russia, March 21, 2023. Xi on Tuesday held talks with Putin in Moscow. Putin held a solemn welcome ceremony for Xi Jinping at the St. George's Hall.\"\n",
    "\n",
    "# re_tok = re.compile(f\"([{string.punctuation}“”¨«»®´·º½¾¿¡§£₤‘’])\")\n",
    "# sentence = re_tok.sub(r\"  \", sentence).split()\n",
    "\n",
    "# padded_sentence = sentence + [\"<PAD>\"] * (MAX_SENTENCE - len(sentence))\n",
    "# padded_sentence = [word2index.get(w, 0) for w in padded_sentence]\n",
    "\n",
    "# pred = ner_model.predict(np.array([padded_sentence]))\n",
    "# pred = np.argmax(pred, axis=-1)\n",
    "\n",
    "# retval = \"\"\n",
    "# for w, p in zip(sentence, pred[0]):\n",
    "#     retval = retval + \"{:15}: {:5}\".format(w, index2tag[p]) + \"\\n\"\n",
    "# print(retval)"
   ]
  }
 ],
 "metadata": {
  "kernelspec": {
   "display_name": "biLSTM-CRF",
   "language": "python",
   "name": "python3"
  },
  "language_info": {
   "codemirror_mode": {
    "name": "ipython",
    "version": 3
   },
   "file_extension": ".py",
   "mimetype": "text/x-python",
   "name": "python",
   "nbconvert_exporter": "python",
   "pygments_lexer": "ipython3",
   "version": "3.7.16"
  },
  "orig_nbformat": 4,
  "vscode": {
   "interpreter": {
    "hash": "21c4db5a344687d06604f741da41e2475c6df73316930f1af5293a12cf86a7ed"
   }
  }
 },
 "nbformat": 4,
 "nbformat_minor": 2
}
